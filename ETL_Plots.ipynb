{
 "cells": [
  {
   "cell_type": "markdown",
   "id": "474b0470-a4eb-4afc-a1ac-c252cb3c9ebd",
   "metadata": {},
   "source": [
    "# Visualizations "
   ]
  },
  {
   "cell_type": "code",
   "execution_count": 2,
   "id": "b2374164-5dca-48e5-930e-cefafea0b513",
   "metadata": {},
   "outputs": [],
   "source": [
    "# imports \n",
    "import pandas as pd \n",
    "import seaborn as sns\n",
    "import matplotlib.pyplot as plt\n",
    "import numpy as np\n",
    "\n",
    "from pymongo import MongoClient\n",
    "from pprint import pprint\n",
    "\n",
    "from sqlalchemy import create_engine, inspect, text\n",
    "from sqlalchemy.ext.automap import automap_base\n",
    "from sqlalchemy.ext.declarative import declarative_base\n",
    "import sqlalchemy\n",
    "\n",
    "import psycopg2 "
   ]
  },
  {
   "cell_type": "code",
   "execution_count": 3,
   "id": "19af8ef5-7747-4d0c-9367-f0a5673f65d3",
   "metadata": {},
   "outputs": [],
   "source": [
    "SQL_USERNAME = \"postgres\"\n",
    "SQL_PASSWORD = \"postgres\" \n",
    "SQL_IP = \"localhost\"\n",
    "PORT = 5432\n",
    "DATABASE = \"crowdfunding_db\" "
   ]
  },
  {
   "cell_type": "code",
   "execution_count": 4,
   "id": "655b51d0-b07e-4195-b7dc-0c2eb9c53b47",
   "metadata": {},
   "outputs": [],
   "source": [
    "# create database connection\n",
    "connection_string = f\"postgresql+psycopg2://{SQL_USERNAME}:{SQL_PASSWORD}@{SQL_IP}:{PORT}/{DATABASE}\"\n",
    "engine = create_engine(connection_string)\n",
    "conn = engine.connect()"
   ]
  },
  {
   "cell_type": "markdown",
   "id": "a443ba43-277f-4199-937a-76d862dec7d3",
   "metadata": {},
   "source": [
    "### Few quaries to get a feel for the data"
   ]
  },
  {
   "cell_type": "code",
   "execution_count": 23,
   "id": "eea79431-20a5-41dc-9ea1-0cea5c40b9bc",
   "metadata": {},
   "outputs": [
    {
     "name": "stdout",
     "output_type": "stream",
     "text": [
      "   count\n",
      "0   2000\n"
     ]
    }
   ],
   "source": [
    "# how many enteries are there in our campaign table\n",
    "query_rows = \"\"\"\n",
    "    SELECT COUNT(*)\n",
    "    FROM campaign\n",
    "    \"\"\"\n",
    "# return from query\n",
    "with engine.connect() as conn:\n",
    "    total_rows = pd.read_sql(text(query_rows), conn)\n",
    "print(total_rows)"
   ]
  },
  {
   "cell_type": "code",
   "execution_count": 11,
   "id": "3614f600-b473-4afe-83e5-aa89c4ad2ef0",
   "metadata": {},
   "outputs": [
    {
     "name": "stdout",
     "output_type": "stream",
     "text": [
      "        max\n",
      "0  199200.0\n"
     ]
    }
   ],
   "source": [
    "# what is the top goal out of our campaigns\n",
    "query_goals = \"\"\"\n",
    "    SELECT MAX(goal)\n",
    "    FROM campaign\n",
    "    \"\"\"\n",
    "\n",
    "# return from query\n",
    "with engine.connect() as conn:\n",
    "    top_goal = pd.read_sql(text(query_goals), conn)\n",
    "print(top_goal)"
   ]
  },
  {
   "cell_type": "code",
   "execution_count": 22,
   "id": "ab379ec0-ac57-48df-9d93-eed2d65684e3",
   "metadata": {},
   "outputs": [
    {
     "name": "stdout",
     "output_type": "stream",
     "text": [
      "   count\n",
      "0   1130\n"
     ]
    }
   ],
   "source": [
    "# find count of successful outcomes\n",
    "query_success = \"\"\"\n",
    "    SELECT COUNT(*)\n",
    "    FROM campaign\n",
    "    WHERE outcome = 'successful'\n",
    "    \"\"\"\n",
    "# return from query\n",
    "with engine.connect() as conn:\n",
    "    count_of_success = pd.read_sql(text(query_success), conn)\n",
    "print(count_of_success)"
   ]
  },
  {
   "cell_type": "markdown",
   "id": "a4663c7b-ad75-4643-98df-8efb7b7521b6",
   "metadata": {},
   "source": [
    "### What is the percentage of successful vs failed campaigns? "
   ]
  },
  {
   "cell_type": "code",
   "execution_count": 4,
   "id": "06e15733-2192-4dfb-bc2c-1e8179bf864d",
   "metadata": {},
   "outputs": [
    {
     "data": {
      "text/html": [
       "<div>\n",
       "<style scoped>\n",
       "    .dataframe tbody tr th:only-of-type {\n",
       "        vertical-align: middle;\n",
       "    }\n",
       "\n",
       "    .dataframe tbody tr th {\n",
       "        vertical-align: top;\n",
       "    }\n",
       "\n",
       "    .dataframe thead th {\n",
       "        text-align: right;\n",
       "    }\n",
       "</style>\n",
       "<table border=\"1\" class=\"dataframe\">\n",
       "  <thead>\n",
       "    <tr style=\"text-align: right;\">\n",
       "      <th></th>\n",
       "      <th>outcome</th>\n",
       "      <th>count</th>\n",
       "    </tr>\n",
       "  </thead>\n",
       "  <tbody>\n",
       "    <tr>\n",
       "      <th>0</th>\n",
       "      <td>failed</td>\n",
       "      <td>364</td>\n",
       "    </tr>\n",
       "    <tr>\n",
       "      <th>1</th>\n",
       "      <td>live</td>\n",
       "      <td>14</td>\n",
       "    </tr>\n",
       "    <tr>\n",
       "      <th>2</th>\n",
       "      <td>canceled</td>\n",
       "      <td>57</td>\n",
       "    </tr>\n",
       "    <tr>\n",
       "      <th>3</th>\n",
       "      <td>successful</td>\n",
       "      <td>565</td>\n",
       "    </tr>\n",
       "  </tbody>\n",
       "</table>\n",
       "</div>"
      ],
      "text/plain": [
       "      outcome  count\n",
       "0      failed    364\n",
       "1        live     14\n",
       "2    canceled     57\n",
       "3  successful    565"
      ]
     },
     "execution_count": 4,
     "metadata": {},
     "output_type": "execute_result"
    }
   ],
   "source": [
    "# query for group by of the results of the 'outcome' column \n",
    "query_outcome = \"\"\"\n",
    "    SELECT outcome, COUNT(*) AS count\n",
    "    FROM campaign\n",
    "    GROUP BY outcome;\n",
    "    \"\"\"\n",
    "\n",
    "# create basic dataframe\n",
    "with engine.connect() as conn:\n",
    "    outcome_df = pd.read_sql(text(query_outcome), conn) \n",
    "\n",
    "# print the data\n",
    "outcome_df.head()"
   ]
  },
  {
   "cell_type": "code",
   "execution_count": 5,
   "id": "c4a57132-6851-443d-b11d-67e6eef4c64d",
   "metadata": {},
   "outputs": [
    {
     "data": {
      "image/png": "[encoded data removed]",
      "text/plain": [
       "<Figure size 800x800 with 1 Axes>"
      ]
     },
     "metadata": {},
     "output_type": "display_data"
    }
   ],
   "source": [
    "# from the outcome_df make a donut chart to show the outcomes of each campaign in the database\n",
    "# define the sizes\n",
    "sizes = outcome_df['count']\n",
    "labels = outcome_df['outcome']\n",
    "\n",
    "# set colors \n",
    "colors = ['#F2BAC9', '#B0F2B4', '#BAF2E9', '#F2E2BA']  \n",
    "\n",
    "# create pie chart\n",
    "plt.figure(figsize=(8, 8))\n",
    "plt.pie(sizes, labels=labels, autopct='%1.1f%%', startangle=140, colors=colors, wedgeprops=dict(width=0.3), pctdistance=0.85)\n",
    "plt.title('Campaign Outcomes', fontweight='bold')\n",
    "\n",
    "# show \n",
    "plt.show()"
   ]
  },
  {
   "cell_type": "markdown",
   "id": "d575fdcc-5f38-47e5-b826-078689cffcf8",
   "metadata": {},
   "source": [
    "### What is the breakdown of category for successful campaigns?"
   ]
  },
  {
   "cell_type": "code",
   "execution_count": 6,
   "id": "eb71a73f-0fe0-4e59-b1f4-0835cff11ed2",
   "metadata": {},
   "outputs": [
    {
     "data": {
      "text/html": [
       "<div>\n",
       "<style scoped>\n",
       "    .dataframe tbody tr th:only-of-type {\n",
       "        vertical-align: middle;\n",
       "    }\n",
       "\n",
       "    .dataframe tbody tr th {\n",
       "        vertical-align: top;\n",
       "    }\n",
       "\n",
       "    .dataframe thead th {\n",
       "        text-align: right;\n",
       "    }\n",
       "</style>\n",
       "<table border=\"1\" class=\"dataframe\">\n",
       "  <thead>\n",
       "    <tr style=\"text-align: right;\">\n",
       "      <th></th>\n",
       "      <th>category_id</th>\n",
       "      <th>outcome</th>\n",
       "    </tr>\n",
       "  </thead>\n",
       "  <tbody>\n",
       "    <tr>\n",
       "      <th>0</th>\n",
       "      <td>cat1</td>\n",
       "      <td>successful</td>\n",
       "    </tr>\n",
       "    <tr>\n",
       "      <th>1</th>\n",
       "      <td>cat1</td>\n",
       "      <td>successful</td>\n",
       "    </tr>\n",
       "    <tr>\n",
       "      <th>2</th>\n",
       "      <td>cat1</td>\n",
       "      <td>successful</td>\n",
       "    </tr>\n",
       "    <tr>\n",
       "      <th>3</th>\n",
       "      <td>cat1</td>\n",
       "      <td>successful</td>\n",
       "    </tr>\n",
       "    <tr>\n",
       "      <th>4</th>\n",
       "      <td>cat1</td>\n",
       "      <td>successful</td>\n",
       "    </tr>\n",
       "  </tbody>\n",
       "</table>\n",
       "</div>"
      ],
      "text/plain": [
       "  category_id     outcome\n",
       "0        cat1  successful\n",
       "1        cat1  successful\n",
       "2        cat1  successful\n",
       "3        cat1  successful\n",
       "4        cat1  successful"
      ]
     },
     "execution_count": 6,
     "metadata": {},
     "output_type": "execute_result"
    }
   ],
   "source": [
    "# 1: create query for returning only category_id and outcome for each row \n",
    "category_query = \"\"\"\n",
    "    SELECT category_id, outcome\n",
    "    FROM campaign\n",
    "    WHERE outcome = 'successful';\n",
    "\"\"\"\n",
    "\n",
    "# return from the database\n",
    "with engine.connect() as conn:\n",
    "    category_df = pd.read_sql(text(category_query), conn)\n",
    "\n",
    "category_df.head()"
   ]
  },
  {
   "cell_type": "code",
   "execution_count": 7,
   "id": "e2fc0bd6-6d9a-487b-812b-1b2820f8b866",
   "metadata": {},
   "outputs": [
    {
     "data": {
      "text/html": [
       "<div>\n",
       "<style scoped>\n",
       "    .dataframe tbody tr th:only-of-type {\n",
       "        vertical-align: middle;\n",
       "    }\n",
       "\n",
       "    .dataframe tbody tr th {\n",
       "        vertical-align: top;\n",
       "    }\n",
       "\n",
       "    .dataframe thead th {\n",
       "        text-align: right;\n",
       "    }\n",
       "</style>\n",
       "<table border=\"1\" class=\"dataframe\">\n",
       "  <thead>\n",
       "    <tr style=\"text-align: right;\">\n",
       "      <th></th>\n",
       "      <th>category_id</th>\n",
       "      <th>category_name</th>\n",
       "    </tr>\n",
       "  </thead>\n",
       "  <tbody>\n",
       "    <tr>\n",
       "      <th>0</th>\n",
       "      <td>cat1</td>\n",
       "      <td>food</td>\n",
       "    </tr>\n",
       "    <tr>\n",
       "      <th>1</th>\n",
       "      <td>cat2</td>\n",
       "      <td>music</td>\n",
       "    </tr>\n",
       "    <tr>\n",
       "      <th>2</th>\n",
       "      <td>cat3</td>\n",
       "      <td>technology</td>\n",
       "    </tr>\n",
       "    <tr>\n",
       "      <th>3</th>\n",
       "      <td>cat4</td>\n",
       "      <td>theater</td>\n",
       "    </tr>\n",
       "    <tr>\n",
       "      <th>4</th>\n",
       "      <td>cat5</td>\n",
       "      <td>film &amp; video</td>\n",
       "    </tr>\n",
       "    <tr>\n",
       "      <th>5</th>\n",
       "      <td>cat6</td>\n",
       "      <td>publishing</td>\n",
       "    </tr>\n",
       "    <tr>\n",
       "      <th>6</th>\n",
       "      <td>cat7</td>\n",
       "      <td>games</td>\n",
       "    </tr>\n",
       "    <tr>\n",
       "      <th>7</th>\n",
       "      <td>cat8</td>\n",
       "      <td>photography</td>\n",
       "    </tr>\n",
       "    <tr>\n",
       "      <th>8</th>\n",
       "      <td>cat9</td>\n",
       "      <td>journalism</td>\n",
       "    </tr>\n",
       "  </tbody>\n",
       "</table>\n",
       "</div>"
      ],
      "text/plain": [
       "  category_id category_name\n",
       "0        cat1          food\n",
       "1        cat2         music\n",
       "2        cat3    technology\n",
       "3        cat4       theater\n",
       "4        cat5  film & video\n",
       "5        cat6    publishing\n",
       "6        cat7         games\n",
       "7        cat8   photography\n",
       "8        cat9    journalism"
      ]
     },
     "execution_count": 7,
     "metadata": {},
     "output_type": "execute_result"
    }
   ],
   "source": [
    "# 2: get names of categories from 'category' table\n",
    "category_names = \"\"\"\n",
    "    SELECT category_id, category AS category_name\n",
    "    FROM category;\n",
    "    \"\"\"\n",
    "\n",
    "# return from the database\n",
    "with engine.connect() as conn:\n",
    "    category_names_df = pd.read_sql(text(category_names), conn)\n",
    "\n",
    "category_names_df.head(10)"
   ]
  },
  {
   "cell_type": "code",
   "execution_count": 8,
   "id": "d6055210-af40-4f0f-9109-4be480effda1",
   "metadata": {},
   "outputs": [
    {
     "data": {
      "text/html": [
       "<div>\n",
       "<style scoped>\n",
       "    .dataframe tbody tr th:only-of-type {\n",
       "        vertical-align: middle;\n",
       "    }\n",
       "\n",
       "    .dataframe tbody tr th {\n",
       "        vertical-align: top;\n",
       "    }\n",
       "\n",
       "    .dataframe thead th {\n",
       "        text-align: right;\n",
       "    }\n",
       "</style>\n",
       "<table border=\"1\" class=\"dataframe\">\n",
       "  <thead>\n",
       "    <tr style=\"text-align: right;\">\n",
       "      <th></th>\n",
       "      <th>category_name</th>\n",
       "      <th>count</th>\n",
       "    </tr>\n",
       "  </thead>\n",
       "  <tbody>\n",
       "    <tr>\n",
       "      <th>8</th>\n",
       "      <td>theater</td>\n",
       "      <td>187</td>\n",
       "    </tr>\n",
       "    <tr>\n",
       "      <th>0</th>\n",
       "      <td>film &amp; video</td>\n",
       "      <td>102</td>\n",
       "    </tr>\n",
       "    <tr>\n",
       "      <th>4</th>\n",
       "      <td>music</td>\n",
       "      <td>99</td>\n",
       "    </tr>\n",
       "    <tr>\n",
       "      <th>7</th>\n",
       "      <td>technology</td>\n",
       "      <td>64</td>\n",
       "    </tr>\n",
       "    <tr>\n",
       "      <th>6</th>\n",
       "      <td>publishing</td>\n",
       "      <td>40</td>\n",
       "    </tr>\n",
       "  </tbody>\n",
       "</table>\n",
       "</div>"
      ],
      "text/plain": [
       "  category_name  count\n",
       "8       theater    187\n",
       "0  film & video    102\n",
       "4         music     99\n",
       "7    technology     64\n",
       "6    publishing     40"
      ]
     },
     "execution_count": 8,
     "metadata": {},
     "output_type": "execute_result"
    }
   ],
   "source": [
    "# 3: merge the dataframes to add the category names \n",
    "merged_df = pd.merge(category_df, category_names_df, on='category_id', how='inner')\n",
    "\n",
    "# groupby each category\n",
    "category_counts_df = merged_df.groupby('category_name').size().reset_index(name='count')\n",
    "\n",
    "# sort decending for plot\n",
    "category_counts_df = category_counts_df.sort_values(by='count', ascending=False)\n",
    "\n",
    "# Print the aggregated data\n",
    "category_counts_df.head()"
   ]
  },
  {
   "cell_type": "code",
   "execution_count": 9,
   "id": "5153cb1d-bb08-4f3a-8aff-675ce73b5121",
   "metadata": {},
   "outputs": [
    {
     "data": {
      "image/png": "[encoded data removed]",
      "text/plain": [
       "<Figure size 1000x800 with 1 Axes>"
      ]
     },
     "metadata": {},
     "output_type": "display_data"
    }
   ],
   "source": [
    "# 4: create bar chart to show successful campaigns per each category\n",
    "plt.figure(figsize=(10, 8)) \n",
    "sns.set_theme(style='whitegrid') \n",
    "\n",
    "# colors\n",
    "custom_pallette = ['#335C67', '#FFF3B0', '#E09F3E', '#9E2A2B', '#540B0E']\n",
    "\n",
    "# plot\n",
    "ax = sns.barplot(x='category_name', y='count', data=category_counts_df, palette=custom_pallette)\n",
    "\n",
    "# customize\n",
    "plt.title('Successful Campaigns per Category', fontsize=20)\n",
    "plt.xlabel('Category', fontsize=14)\n",
    "plt.ylabel('Number of Campaigns', fontsize=14)\n",
    "plt.xticks(rotation=45, ha='right', fontsize=12)\n",
    "plt.yticks(fontsize=12)\n",
    "\n",
    "# show\n",
    "plt.tight_layout()\n",
    "plt.show()"
   ]
  },
  {
   "cell_type": "code",
   "execution_count": null,
   "id": "65156484-c7e4-428e-8505-d21ad62e4e9d",
   "metadata": {},
   "outputs": [],
   "source": []
  },
  {
   "cell_type": "code",
   "execution_count": null,
   "id": "ae096700-8d3a-46f1-862d-cc97d89e49ad",
   "metadata": {},
   "outputs": [],
   "source": []
  },
  {
   "cell_type": "code",
   "execution_count": null,
   "id": "b8c11504-5990-422c-bd71-bdc13e103f94",
   "metadata": {},
   "outputs": [],
   "source": []
  }
 ],
 "metadata": {
  "kernelspec": {
   "display_name": "Python 3 (ipykernel)",
   "language": "python",
   "name": "python3"
  },
  "language_info": {
   "codemirror_mode": {
    "name": "ipython",
    "version": 3
   },
   "file_extension": ".py",
   "mimetype": "text/x-python",
   "name": "python",
   "nbconvert_exporter": "python",
   "pygments_lexer": "ipython3",
   "version": "3.10.14"
  }
 },
 "nbformat": 4,
 "nbformat_minor": 5
}
